{
 "cells": [
  {
   "cell_type": "code",
   "execution_count": 1,
   "id": "statewide-jones",
   "metadata": {},
   "outputs": [
    {
     "name": "stdout",
     "output_type": "stream",
     "text": [
      "Hello World\n"
     ]
    }
   ],
   "source": []
  },
  {
   "cell_type": "code",
   "execution_count": 3,
   "id": "realistic-characterization",
   "metadata": {},
   "outputs": [
    {
     "name": "stdout",
     "output_type": "stream",
     "text": [
      "Enter your first and last names.Leigh Salvucci\n",
      "Enter any word you like.cat\n",
      "['Leigh', 'cat', 'Salvucci']\n"
     ]
    }
   ],
   "source": [
    "name = input(\"Enter your first and last names.\")\n",
    "nickname = input(\"Enter any word you like.\")\n",
    "splitName = []\n",
    "splitName = name.split(\" \")\n",
    "splitName.insert(1, nickname)\n",
    "\n",
    "print(splitName)"
   ]
  },
  {
   "cell_type": "code",
   "execution_count": null,
   "id": "toxic-mediterranean",
   "metadata": {},
   "outputs": [],
   "source": []
  }
 ],
 "metadata": {
  "kernelspec": {
   "display_name": "Python 3",
   "language": "python",
   "name": "python3"
  },
  "language_info": {
   "codemirror_mode": {
    "name": "ipython",
    "version": 3
   },
   "file_extension": ".py",
   "mimetype": "text/x-python",
   "name": "python",
   "nbconvert_exporter": "python",
   "pygments_lexer": "ipython3",
   "version": "3.8.5"
  }
 },
 "nbformat": 4,
 "nbformat_minor": 5
}
